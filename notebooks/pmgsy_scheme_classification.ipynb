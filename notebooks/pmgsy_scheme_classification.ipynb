{
 "cells": [
  {
   "cell_type": "markdown",
   "metadata": {},
   "source": [
    "# PMGSY Scheme Classification\n",
    "\n",
    "This notebook demonstrates the training of a machine learning model to classify PMGSY projects into different schemes based on their features.\n",
    "\n",
    "## Table of Contents\n",
    "1. [Setup and Data Loading](#1-Setup-and-Data-Loading)\n",
    "2. [Exploratory Data Analysis](#2-Exploratory-Data-Analysis)\n",
    "3. [Data Preprocessing](#3-Data-Preprocessing)\n",
    "4. [Model Training](#4-Model-Training)\n",
    "5. [Model Evaluation](#5-Model-Evaluation)\n",
    "6. [Saving the Model](#6-Saving-the-Model)"
   ]
  },
  {
   "cell_type": "code",
   "execution_count": null,
   "metadata": {},
   "outputs": [],
   "source": [
    "# Import required libraries\n",
    "import pandas as pd\n",
    "import numpy as np\n",
    "import matplotlib.pyplot as plt\n",
    "import seaborn as sns\n",
    "from sklearn.model_selection import train_test_split\n",
    "from sklearn.preprocessing import StandardScaler, LabelEncoder\n",
    "from sklearn.ensemble import RandomForestClassifier\n",
    "from xgboost import XGBClassifier\n",
    "from sklearn.metrics import classification_report, confusion_matrix, accuracy_score\n",
    "import joblib\n",
    "import os"
   ]
  },
  {
   "cell_type": "markdown",
   "metadata": {},
   "source": [
    "## 1. Setup and Data Loading\n",
    "\n",
    "First, let's load the dataset and take a look at its structure."
   ]
  },
  {
   "cell_type": "code",
   "execution_count": null,
   "metadata": {},
   "outputs": [],
   "source": [
    "# Load the dataset\n",
    "# Note: Update the path to your dataset\n
